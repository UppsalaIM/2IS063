{
 "cells": [
  {
   "cell_type": "code",
   "execution_count": 1,
   "metadata": {},
   "outputs": [
    {
     "name": "stdout",
     "output_type": "stream",
     "text": [
      "Requirement already satisfied: tweepy in ./.venv/lib/python3.6/site-packages (3.6.0)\n",
      "Requirement already satisfied: requests>=2.11.1 in ./.venv/lib/python3.6/site-packages (from tweepy) (2.20.1)\n",
      "Requirement already satisfied: six>=1.10.0 in ./.venv/lib/python3.6/site-packages (from tweepy) (1.11.0)\n",
      "Requirement already satisfied: requests-oauthlib>=0.7.0 in ./.venv/lib/python3.6/site-packages (from tweepy) (1.0.0)\n",
      "Requirement already satisfied: PySocks>=1.5.7 in ./.venv/lib/python3.6/site-packages (from tweepy) (1.6.8)\n",
      "Requirement already satisfied: urllib3<1.25,>=1.21.1 in ./.venv/lib/python3.6/site-packages (from requests>=2.11.1->tweepy) (1.24.1)\n",
      "Requirement already satisfied: certifi>=2017.4.17 in ./.venv/lib/python3.6/site-packages (from requests>=2.11.1->tweepy) (2018.10.15)\n",
      "Requirement already satisfied: chardet<3.1.0,>=3.0.2 in ./.venv/lib/python3.6/site-packages (from requests>=2.11.1->tweepy) (3.0.4)\n",
      "Requirement already satisfied: idna<2.8,>=2.5 in ./.venv/lib/python3.6/site-packages (from requests>=2.11.1->tweepy) (2.7)\n",
      "Requirement already satisfied: oauthlib>=0.6.2 in ./.venv/lib/python3.6/site-packages (from requests-oauthlib>=0.7.0->tweepy) (2.1.0)\n"
     ]
    }
   ],
   "source": [
    "!pip install tweepy"
   ]
  },
  {
   "cell_type": "markdown",
   "metadata": {},
   "source": [
    "Get your own API key and Access Token from Twitter: https://www.gabfirethemes.com/create-twitter-api-key/"
   ]
  },
  {
   "cell_type": "code",
   "execution_count": 3,
   "metadata": {},
   "outputs": [],
   "source": [
    "api_key = ''\n",
    "api_secret = ''\n",
    "access_token = ''\n",
    "access_token_secret = ''"
   ]
  },
  {
   "cell_type": "code",
   "execution_count": 4,
   "metadata": {},
   "outputs": [],
   "source": [
    "import tweepy"
   ]
  },
  {
   "cell_type": "code",
   "execution_count": 5,
   "metadata": {},
   "outputs": [],
   "source": [
    "auth = tweepy.OAuthHandler(api_key, api_secret)\n",
    "auth.set_access_token(access_token, access_token_secret)\n",
    "api = tweepy.API(auth)"
   ]
  },
  {
   "cell_type": "code",
   "execution_count": 6,
   "metadata": {},
   "outputs": [],
   "source": [
    "users = api.search_users(q='USA', page=1)"
   ]
  },
  {
   "cell_type": "code",
   "execution_count": 7,
   "metadata": {},
   "outputs": [
    {
     "data": {
      "text/plain": [
       "20"
      ]
     },
     "execution_count": 7,
     "metadata": {},
     "output_type": "execute_result"
    }
   ],
   "source": [
    "len(users)"
   ]
  },
  {
   "cell_type": "code",
   "execution_count": 8,
   "metadata": {},
   "outputs": [
    {
     "name": "stdout",
     "output_type": "stream",
     "text": [
      "We found 20 users\n",
      "Donald J. Trump\n",
      "CNN\n",
      "USA TODAY\n",
      "Department of State\n",
      "Vice President Mike Pence\n",
      "U.S. Dept of Defense\n",
      "Dept. of Agriculture\n",
      "Library of Congress\n",
      "Sec. Wilbur Ross\n",
      "GOP\n",
      "T-Mobile\n",
      "Treasury Department\n",
      "Energy Department\n",
      "Paul Ryan\n",
      "Sarah Sanders\n",
      "The White House\n",
      "Melania Trump\n",
      "U.S. Commerce Dept.\n",
      "US Open Tennis\n",
      "Ben Carson\n"
     ]
    }
   ],
   "source": [
    "print('We found {} users'.format(len(users)))\n",
    "for user in users:\n",
    "    print(user.name)"
   ]
  },
  {
   "cell_type": "code",
   "execution_count": 9,
   "metadata": {},
   "outputs": [
    {
     "data": {
      "text/plain": [
       "['__class__',\n",
       " '__delattr__',\n",
       " '__dict__',\n",
       " '__dir__',\n",
       " '__doc__',\n",
       " '__eq__',\n",
       " '__format__',\n",
       " '__ge__',\n",
       " '__getattribute__',\n",
       " '__getstate__',\n",
       " '__gt__',\n",
       " '__hash__',\n",
       " '__init__',\n",
       " '__init_subclass__',\n",
       " '__le__',\n",
       " '__lt__',\n",
       " '__module__',\n",
       " '__ne__',\n",
       " '__new__',\n",
       " '__reduce__',\n",
       " '__reduce_ex__',\n",
       " '__repr__',\n",
       " '__setattr__',\n",
       " '__sizeof__',\n",
       " '__str__',\n",
       " '__subclasshook__',\n",
       " '__weakref__',\n",
       " '_api',\n",
       " '_json',\n",
       " 'contributors_enabled',\n",
       " 'created_at',\n",
       " 'default_profile',\n",
       " 'default_profile_image',\n",
       " 'description',\n",
       " 'entities',\n",
       " 'favourites_count',\n",
       " 'follow',\n",
       " 'follow_request_sent',\n",
       " 'followers',\n",
       " 'followers_count',\n",
       " 'followers_ids',\n",
       " 'following',\n",
       " 'friends',\n",
       " 'friends_count',\n",
       " 'geo_enabled',\n",
       " 'has_extended_profile',\n",
       " 'id',\n",
       " 'id_str',\n",
       " 'is_translation_enabled',\n",
       " 'is_translator',\n",
       " 'lang',\n",
       " 'listed_count',\n",
       " 'lists',\n",
       " 'lists_memberships',\n",
       " 'lists_subscriptions',\n",
       " 'location',\n",
       " 'name',\n",
       " 'notifications',\n",
       " 'parse',\n",
       " 'parse_list',\n",
       " 'profile_background_color',\n",
       " 'profile_background_image_url',\n",
       " 'profile_background_image_url_https',\n",
       " 'profile_background_tile',\n",
       " 'profile_banner_url',\n",
       " 'profile_image_url',\n",
       " 'profile_image_url_https',\n",
       " 'profile_link_color',\n",
       " 'profile_sidebar_border_color',\n",
       " 'profile_sidebar_fill_color',\n",
       " 'profile_text_color',\n",
       " 'profile_use_background_image',\n",
       " 'protected',\n",
       " 'screen_name',\n",
       " 'status',\n",
       " 'statuses_count',\n",
       " 'time_zone',\n",
       " 'timeline',\n",
       " 'translator_type',\n",
       " 'unfollow',\n",
       " 'url',\n",
       " 'utc_offset',\n",
       " 'verified']"
      ]
     },
     "execution_count": 9,
     "metadata": {},
     "output_type": "execute_result"
    }
   ],
   "source": [
    "dir(users[0])"
   ]
  },
  {
   "cell_type": "code",
   "execution_count": 10,
   "metadata": {},
   "outputs": [
    {
     "data": {
      "text/plain": [
       "'Donald J. Trump'"
      ]
     },
     "execution_count": 10,
     "metadata": {},
     "output_type": "execute_result"
    }
   ],
   "source": [
    "users[0].name"
   ]
  },
  {
   "cell_type": "code",
   "execution_count": 11,
   "metadata": {},
   "outputs": [],
   "source": [
    "trump = users[0]"
   ]
  },
  {
   "cell_type": "code",
   "execution_count": 12,
   "metadata": {},
   "outputs": [
    {
     "data": {
      "text/plain": [
       "'Donald J. Trump'"
      ]
     },
     "execution_count": 12,
     "metadata": {},
     "output_type": "execute_result"
    }
   ],
   "source": [
    "trump.name"
   ]
  },
  {
   "cell_type": "code",
   "execution_count": 13,
   "metadata": {},
   "outputs": [
    {
     "data": {
      "text/plain": [
       "'realDonaldTrump'"
      ]
     },
     "execution_count": 13,
     "metadata": {},
     "output_type": "execute_result"
    }
   ],
   "source": [
    "trump.screen_name"
   ]
  },
  {
   "cell_type": "code",
   "execution_count": 14,
   "metadata": {},
   "outputs": [
    {
     "data": {
      "text/plain": [
       "55.717791"
      ]
     },
     "execution_count": 14,
     "metadata": {},
     "output_type": "execute_result"
    }
   ],
   "source": [
    "trump.followers_count / (1 * 10 ** 6)"
   ]
  },
  {
   "cell_type": "code",
   "execution_count": 15,
   "metadata": {},
   "outputs": [],
   "source": [
    "trump_tweets = tweepy.Cursor(api.user_timeline, screen_name=trump.screen_name).items(50)"
   ]
  },
  {
   "cell_type": "code",
   "execution_count": 16,
   "metadata": {},
   "outputs": [
    {
     "name": "stdout",
     "output_type": "stream",
     "text": [
      "It is our sacred duty to support America’s Service Members every single day they wear the uniform – and every day a… https://t.co/W7R4GX3yj7\n",
      "Last year, I signed the landmark VA Accountability Act to ensure those who mistreat our Veterans can be held fully… https://t.co/iKPN2CoBgA\n",
      "It was my great honor to host a @WhiteHouse Conference on Supporting Veterans &amp; Military Families...\n",
      "\n",
      "To everyone h… https://t.co/6QELuQOJ24\n",
      ".@FLOTUS Melania and I were honored to visit with our GREAT U.S. MARINES at the Marine Barracks here in Washington,… https://t.co/KIPLJDQ1sp\n",
      "The only “Collusion” is that of the Democrats with Russia and many others. Why didn’t the FBI take the Server from… https://t.co/yb97dayXd6\n",
      "Universities will someday study what highly conflicted (and NOT Senate approved) Bob Mueller and his gang of Democr… https://t.co/DmZjfKit3v\n",
      "....care how many lives the ruin. These are Angry People, including the highly conflicted Bob Mueller, who worked f… https://t.co/HPiimzlaAt\n",
      "The inner workings of the Mueller investigation are a total mess. They have found no collusion and have gone absolu… https://t.co/f9e7BFhvaI\n",
      "The White House is running very smoothly and the results for our Nation are obviously very good. We are the envy of… https://t.co/KGB3KYwI3C\n",
      "Our pledge to hire American includes those leaving prison and looking for a very fresh start — new job, and new lif… https://t.co/wZQplga1me\n",
      "I am grateful to be here today w/ Members of the House &amp; Senate who have poured their time, heart and energy into t… https://t.co/BYxsKOz1Io\n",
      "Just spoke to Governor Jerry Brown to let him know that we are with him, and the people of California, all the way!\n",
      "Was just briefed by @FEMA_Brock and @SecretaryZinke, who are in California. Thank you to the great Firefighters, Fi… https://t.co/cql3BeD2jy\n",
      "Not seen in many years, America’s steelworkers get a hard-earned raise because of my Administration’s policies to h… https://t.co/wdlRqxtYIW\n",
      "“Boom: Record high business optimism, need for employees at 45-year high” https://t.co/jBFjEwAcfd\n",
      "It was my great honor to host a celebration of Diwali, the Hindu Festival of Lights, in the Roosevelt Room at the… https://t.co/RP1O31416e\n",
      "Today, we gathered for Diwali, a holiday observed by Buddhists, Sikhs, and Jains throughout the United States &amp; aro… https://t.co/wiSpXHWqRb\n",
      "We mourn for the lives lost and we pray for the victims of the California Wildfires. I want to thank the Firefighte… https://t.co/wryK9lH4h2\n",
      "The story in the New York Times concerning North Korea developing missile bases is inaccurate. We fully know about… https://t.co/DleVG3zI5H\n",
      "When will Bill Nelson concede in Florida? The characters running Broward and Palm Beach voting will not be able to… https://t.co/S98irOmlzj\n",
      "By the way, when the helicopter couldn’t fly to the first cemetery in France because of almost zero visibility, I s… https://t.co/Ir7a23m9fL\n",
      "......MAKE FRANCE GREAT AGAIN!\n",
      "The problem is that Emmanuel suffers from a very low Approval Rating in France, 26%, and an unemployment rate of al… https://t.co/QlstDTD1Dv\n",
      "On Trade, France makes excellent wine, but so does the U.S. The problem is that France makes it very hard for the U… https://t.co/rzfwotgxI6\n",
      "Emmanuel Macron suggests building its own army to protect Europe against the U.S., China and Russia. But it was Ger… https://t.co/2QhmeaaxPk\n",
      "I just approved an expedited request for a Major Disaster Declaration for the State of California. Wanted to respon… https://t.co/Mlsbzln0V2\n",
      "Hopefully, Saudi Arabia and OPEC will not be cutting oil production. Oil prices should be much lower based on supply!\n",
      "American Cable Association has big problems with Comcast. They say that Comcast routinely violates Antitrust Laws.… https://t.co/3FXXwOR1wg\n",
      "The California Fire Fighters, FEMA and  First Responders are amazing and very brave. Thank you and God Bless you all!\n",
      "The prospect of Presidential Harassment by the Dems is causing the Stock Market big headaches!\n",
      "The Florida Election should be called in favor of Rick Scott and Ron DeSantis in that large numbers of new ballots… https://t.co/9e9Qqkn9pq\n",
      ".....of money spent on protecting other countries, and we get nothing but Trade Deficits and Losses. It is time tha… https://t.co/g5CpXgXYSn\n",
      ".....hundreds of billions of dollars, for the great privilege of losing hundreds of billions of dollars with these… https://t.co/XQWv7ciUgm\n",
      "Just returned from France where much was accomplished in my meetings with World Leaders. Never easy bringing up the… https://t.co/6SMjfOoVfw\n",
      "Exactly 100 years ago today, on November 11th, 1918, World War I came to an end. We are gathered together, at this… https://t.co/FUKpp7JMtX\n",
      "RT @FLOTUS: Today we remember the brave actions of our troops and those of our allies during WWI. Honored to be spending this day honoring…\n",
      "Poland, a great country - Congratulations on the 100th Anniversary of your Independence. I will never forget my tim… https://t.co/8yuSBJvNoB\n",
      "RT @WhiteHouse: President Trump Attends the American Commemoration Ceremony at Suresnes American Cemetery https://t.co/P6PgE1zXuE\n",
      "Beautiful ceremony today in Paris commemorating the end of World War One. Many World leaders in attendance. Thank y… https://t.co/yvnYpNt0Qx\n",
      "On this Veterans Day — the 100th Anniversary of the end of WWI, we honor the brave HEROES who fought for America in… https://t.co/4N8hF7kXLk\n",
      "With proper Forest Management, we can stop the devastation constantly going on in California. Get Smart!\n",
      "These California fires are expanding very, very quickly (in some cases 80-100 acres a minute). If people don’t evac… https://t.co/5WUnd01wou\n",
      "More than 4,000 are fighting the Camp and Woolsey Fires in California that have burned over 170,000 acres. Our hear… https://t.co/bHG71OSXsq\n",
      "Trying to STEAL two big elections in Florida! We are watching closely!\n",
      "Had very productive meetings and calls for our Country today. Meeting tonight with World Leaders!\n",
      "Happy 243rd Birthday to our GREAT U.S. Marine Corps🇺🇸 https://t.co/1cPtoMfmxP\n",
      "I am in Paris getting ready to celebrate the end of World War One. Is there anything better to celebrate than the e… https://t.co/t8uU75sD9I\n",
      "There is no reason for these massive, deadly and costly forest fires in California except that forest management is… https://t.co/k5gzPlaT4E\n",
      "....Mr. Whitaker is very highly thought of by @SenJoniErnst, Senator @ChuckGrassley, Ambassador @TerryBranstad, Leo… https://t.co/uplNQmsTxe\n",
      "Matthew G. Whitaker is a highly respected former U.S. Attorney from Iowa. He was chosen by Jeff Sessions to be his… https://t.co/M15MpWwa0R\n"
     ]
    }
   ],
   "source": [
    "for tweet in trump_tweets:\n",
    "    print(tweet.text)"
   ]
  },
  {
   "cell_type": "code",
   "execution_count": 17,
   "metadata": {},
   "outputs": [],
   "source": [
    "trump_tweets = tweepy.Cursor(api.user_timeline, screen_name=trump.screen_name).items(50)"
   ]
  },
  {
   "cell_type": "code",
   "execution_count": 18,
   "metadata": {},
   "outputs": [],
   "source": [
    "tweet1 = next(trump_tweets)"
   ]
  },
  {
   "cell_type": "code",
   "execution_count": 19,
   "metadata": {},
   "outputs": [
    {
     "data": {
      "text/plain": [
       "'It is our sacred duty to support America’s Service Members every single day they wear the uniform – and every day a… https://t.co/W7R4GX3yj7'"
      ]
     },
     "execution_count": 19,
     "metadata": {},
     "output_type": "execute_result"
    }
   ],
   "source": [
    "tweet1.text"
   ]
  },
  {
   "cell_type": "code",
   "execution_count": 20,
   "metadata": {},
   "outputs": [
    {
     "data": {
      "text/plain": [
       "['__class__',\n",
       " '__delattr__',\n",
       " '__dict__',\n",
       " '__dir__',\n",
       " '__doc__',\n",
       " '__eq__',\n",
       " '__format__',\n",
       " '__ge__',\n",
       " '__getattribute__',\n",
       " '__getstate__',\n",
       " '__gt__',\n",
       " '__hash__',\n",
       " '__init__',\n",
       " '__init_subclass__',\n",
       " '__le__',\n",
       " '__lt__',\n",
       " '__module__',\n",
       " '__ne__',\n",
       " '__new__',\n",
       " '__reduce__',\n",
       " '__reduce_ex__',\n",
       " '__repr__',\n",
       " '__setattr__',\n",
       " '__sizeof__',\n",
       " '__str__',\n",
       " '__subclasshook__',\n",
       " '__weakref__',\n",
       " '_api',\n",
       " '_json',\n",
       " 'author',\n",
       " 'contributors',\n",
       " 'coordinates',\n",
       " 'created_at',\n",
       " 'destroy',\n",
       " 'entities',\n",
       " 'favorite',\n",
       " 'favorite_count',\n",
       " 'favorited',\n",
       " 'geo',\n",
       " 'id',\n",
       " 'id_str',\n",
       " 'in_reply_to_screen_name',\n",
       " 'in_reply_to_status_id',\n",
       " 'in_reply_to_status_id_str',\n",
       " 'in_reply_to_user_id',\n",
       " 'in_reply_to_user_id_str',\n",
       " 'is_quote_status',\n",
       " 'lang',\n",
       " 'parse',\n",
       " 'parse_list',\n",
       " 'place',\n",
       " 'possibly_sensitive',\n",
       " 'retweet',\n",
       " 'retweet_count',\n",
       " 'retweeted',\n",
       " 'retweets',\n",
       " 'source',\n",
       " 'source_url',\n",
       " 'text',\n",
       " 'truncated',\n",
       " 'user']"
      ]
     },
     "execution_count": 20,
     "metadata": {},
     "output_type": "execute_result"
    }
   ],
   "source": [
    "dir(tweet1)"
   ]
  },
  {
   "cell_type": "code",
   "execution_count": 21,
   "metadata": {},
   "outputs": [
    {
     "data": {
      "text/plain": [
       "{'hashtags': [],\n",
       " 'symbols': [],\n",
       " 'user_mentions': [],\n",
       " 'urls': [{'url': 'https://t.co/W7R4GX3yj7',\n",
       "   'expanded_url': 'https://twitter.com/i/web/status/1063170699500642304',\n",
       "   'display_url': 'twitter.com/i/web/status/1…',\n",
       "   'indices': [117, 140]}]}"
      ]
     },
     "execution_count": 21,
     "metadata": {},
     "output_type": "execute_result"
    }
   ],
   "source": [
    "tweet1.entities"
   ]
  },
  {
   "cell_type": "code",
   "execution_count": 22,
   "metadata": {},
   "outputs": [
    {
     "data": {
      "text/plain": [
       "12887"
      ]
     },
     "execution_count": 22,
     "metadata": {},
     "output_type": "execute_result"
    }
   ],
   "source": [
    "tweet1.retweet_count"
   ]
  },
  {
   "cell_type": "code",
   "execution_count": 23,
   "metadata": {},
   "outputs": [
    {
     "data": {
      "text/plain": [
       "50907"
      ]
     },
     "execution_count": 23,
     "metadata": {},
     "output_type": "execute_result"
    }
   ],
   "source": [
    "tweet1.favorite_count"
   ]
  },
  {
   "cell_type": "code",
   "execution_count": null,
   "metadata": {},
   "outputs": [],
   "source": []
  },
  {
   "cell_type": "code",
   "execution_count": 24,
   "metadata": {},
   "outputs": [
    {
     "name": "stdout",
     "output_type": "stream",
     "text": [
      "Number of tweets extracted: 200.\n",
      "\n",
      "5 recent tweets:\n",
      "\n",
      "It is our sacred duty to support America’s Service Members every single day they wear the uniform – and every day a… https://t.co/W7R4GX3yj7\n",
      "\n",
      "Last year, I signed the landmark VA Accountability Act to ensure those who mistreat our Veterans can be held fully… https://t.co/iKPN2CoBgA\n",
      "\n",
      "It was my great honor to host a @WhiteHouse Conference on Supporting Veterans &amp; Military Families...\n",
      "\n",
      "To everyone h… https://t.co/6QELuQOJ24\n",
      "\n",
      ".@FLOTUS Melania and I were honored to visit with our GREAT U.S. MARINES at the Marine Barracks here in Washington,… https://t.co/KIPLJDQ1sp\n",
      "\n",
      "The only “Collusion” is that of the Democrats with Russia and many others. Why didn’t the FBI take the Server from… https://t.co/yb97dayXd6\n",
      "\n"
     ]
    }
   ],
   "source": [
    "tweets = api.user_timeline(screen_name=\"realDonaldTrump\", count=200)\n",
    "print(\"Number of tweets extracted: {}.\\n\".format(len(tweets)))\n",
    "print(\"5 recent tweets:\\n\")\n",
    "for tweet in tweets[:5]:\n",
    "    print(tweet.text)\n",
    "    print()"
   ]
  },
  {
   "cell_type": "code",
   "execution_count": 25,
   "metadata": {},
   "outputs": [
    {
     "name": "stdout",
     "output_type": "stream",
     "text": [
      "Requirement already satisfied: pandas in ./.venv/lib/python3.6/site-packages (0.23.4)\r\n",
      "Requirement already satisfied: pytz>=2011k in ./.venv/lib/python3.6/site-packages (from pandas) (2018.7)\r\n",
      "Requirement already satisfied: python-dateutil>=2.5.0 in ./.venv/lib/python3.6/site-packages (from pandas) (2.7.5)\r\n",
      "Requirement already satisfied: numpy>=1.9.0 in ./.venv/lib/python3.6/site-packages (from pandas) (1.15.4)\r\n",
      "Requirement already satisfied: six>=1.5 in ./.venv/lib/python3.6/site-packages (from python-dateutil>=2.5.0->pandas) (1.11.0)\r\n"
     ]
    }
   ],
   "source": [
    "!pip install pandas"
   ]
  },
  {
   "cell_type": "code",
   "execution_count": 26,
   "metadata": {},
   "outputs": [
    {
     "data": {
      "text/html": [
       "<div>\n",
       "<style scoped>\n",
       "    .dataframe tbody tr th:only-of-type {\n",
       "        vertical-align: middle;\n",
       "    }\n",
       "\n",
       "    .dataframe tbody tr th {\n",
       "        vertical-align: top;\n",
       "    }\n",
       "\n",
       "    .dataframe thead th {\n",
       "        text-align: right;\n",
       "    }\n",
       "</style>\n",
       "<table border=\"1\" class=\"dataframe\">\n",
       "  <thead>\n",
       "    <tr style=\"text-align: right;\">\n",
       "      <th></th>\n",
       "      <th>Tweets</th>\n",
       "    </tr>\n",
       "  </thead>\n",
       "  <tbody>\n",
       "    <tr>\n",
       "      <th>0</th>\n",
       "      <td>It is our sacred duty to support America’s Ser...</td>\n",
       "    </tr>\n",
       "    <tr>\n",
       "      <th>1</th>\n",
       "      <td>Last year, I signed the landmark VA Accountabi...</td>\n",
       "    </tr>\n",
       "    <tr>\n",
       "      <th>2</th>\n",
       "      <td>It was my great honor to host a @WhiteHouse Co...</td>\n",
       "    </tr>\n",
       "    <tr>\n",
       "      <th>3</th>\n",
       "      <td>.@FLOTUS Melania and I were honored to visit w...</td>\n",
       "    </tr>\n",
       "    <tr>\n",
       "      <th>4</th>\n",
       "      <td>The only “Collusion” is that of the Democrats ...</td>\n",
       "    </tr>\n",
       "    <tr>\n",
       "      <th>5</th>\n",
       "      <td>Universities will someday study what highly co...</td>\n",
       "    </tr>\n",
       "    <tr>\n",
       "      <th>6</th>\n",
       "      <td>....care how many lives the ruin. These are An...</td>\n",
       "    </tr>\n",
       "    <tr>\n",
       "      <th>7</th>\n",
       "      <td>The inner workings of the Mueller investigatio...</td>\n",
       "    </tr>\n",
       "    <tr>\n",
       "      <th>8</th>\n",
       "      <td>The White House is running very smoothly and t...</td>\n",
       "    </tr>\n",
       "    <tr>\n",
       "      <th>9</th>\n",
       "      <td>Our pledge to hire American includes those lea...</td>\n",
       "    </tr>\n",
       "  </tbody>\n",
       "</table>\n",
       "</div>"
      ],
      "text/plain": [
       "                                              Tweets\n",
       "0  It is our sacred duty to support America’s Ser...\n",
       "1  Last year, I signed the landmark VA Accountabi...\n",
       "2  It was my great honor to host a @WhiteHouse Co...\n",
       "3  .@FLOTUS Melania and I were honored to visit w...\n",
       "4  The only “Collusion” is that of the Democrats ...\n",
       "5  Universities will someday study what highly co...\n",
       "6  ....care how many lives the ruin. These are An...\n",
       "7  The inner workings of the Mueller investigatio...\n",
       "8  The White House is running very smoothly and t...\n",
       "9  Our pledge to hire American includes those lea..."
      ]
     },
     "execution_count": 26,
     "metadata": {},
     "output_type": "execute_result"
    }
   ],
   "source": [
    "import pandas as pd\n",
    "data = pd.DataFrame(data=[tweet.text for tweet in tweets], columns=['Tweets'])\n",
    "data.head(10)"
   ]
  },
  {
   "cell_type": "code",
   "execution_count": 27,
   "metadata": {},
   "outputs": [
    {
     "data": {
      "text/html": [
       "<div>\n",
       "<style scoped>\n",
       "    .dataframe tbody tr th:only-of-type {\n",
       "        vertical-align: middle;\n",
       "    }\n",
       "\n",
       "    .dataframe tbody tr th {\n",
       "        vertical-align: top;\n",
       "    }\n",
       "\n",
       "    .dataframe thead th {\n",
       "        text-align: right;\n",
       "    }\n",
       "</style>\n",
       "<table border=\"1\" class=\"dataframe\">\n",
       "  <thead>\n",
       "    <tr style=\"text-align: right;\">\n",
       "      <th></th>\n",
       "      <th>Tweets</th>\n",
       "      <th>Date</th>\n",
       "      <th>len</th>\n",
       "      <th>ID</th>\n",
       "      <th>Source</th>\n",
       "      <th>Likes</th>\n",
       "      <th>RTs</th>\n",
       "    </tr>\n",
       "  </thead>\n",
       "  <tbody>\n",
       "    <tr>\n",
       "      <th>0</th>\n",
       "      <td>It is our sacred duty to support America’s Ser...</td>\n",
       "      <td>2018-11-15 20:43:42</td>\n",
       "      <td>140</td>\n",
       "      <td>1063170699500642304</td>\n",
       "      <td>Twitter for iPhone</td>\n",
       "      <td>50907</td>\n",
       "      <td>12887</td>\n",
       "    </tr>\n",
       "    <tr>\n",
       "      <th>1</th>\n",
       "      <td>Last year, I signed the landmark VA Accountabi...</td>\n",
       "      <td>2018-11-15 20:39:51</td>\n",
       "      <td>139</td>\n",
       "      <td>1063169733535678464</td>\n",
       "      <td>Twitter for iPhone</td>\n",
       "      <td>53512</td>\n",
       "      <td>13852</td>\n",
       "    </tr>\n",
       "    <tr>\n",
       "      <th>2</th>\n",
       "      <td>It was my great honor to host a @WhiteHouse Co...</td>\n",
       "      <td>2018-11-15 20:34:20</td>\n",
       "      <td>144</td>\n",
       "      <td>1063168341941063680</td>\n",
       "      <td>Twitter for iPhone</td>\n",
       "      <td>41437</td>\n",
       "      <td>10316</td>\n",
       "    </tr>\n",
       "    <tr>\n",
       "      <th>3</th>\n",
       "      <td>.@FLOTUS Melania and I were honored to visit w...</td>\n",
       "      <td>2018-11-15 20:08:32</td>\n",
       "      <td>140</td>\n",
       "      <td>1063161848952836096</td>\n",
       "      <td>Media Studio</td>\n",
       "      <td>44878</td>\n",
       "      <td>11150</td>\n",
       "    </tr>\n",
       "    <tr>\n",
       "      <th>4</th>\n",
       "      <td>The only “Collusion” is that of the Democrats ...</td>\n",
       "      <td>2018-11-15 14:59:28</td>\n",
       "      <td>139</td>\n",
       "      <td>1063084073231544320</td>\n",
       "      <td>Twitter for iPhone</td>\n",
       "      <td>91978</td>\n",
       "      <td>27320</td>\n",
       "    </tr>\n",
       "    <tr>\n",
       "      <th>5</th>\n",
       "      <td>Universities will someday study what highly co...</td>\n",
       "      <td>2018-11-15 14:49:28</td>\n",
       "      <td>140</td>\n",
       "      <td>1063081553075625984</td>\n",
       "      <td>Twitter for iPhone</td>\n",
       "      <td>94794</td>\n",
       "      <td>26487</td>\n",
       "    </tr>\n",
       "    <tr>\n",
       "      <th>6</th>\n",
       "      <td>....care how many lives the ruin. These are An...</td>\n",
       "      <td>2018-11-15 12:32:03</td>\n",
       "      <td>140</td>\n",
       "      <td>1063046973857718272</td>\n",
       "      <td>Twitter for iPhone</td>\n",
       "      <td>101230</td>\n",
       "      <td>26094</td>\n",
       "    </tr>\n",
       "    <tr>\n",
       "      <th>7</th>\n",
       "      <td>The inner workings of the Mueller investigatio...</td>\n",
       "      <td>2018-11-15 12:14:37</td>\n",
       "      <td>140</td>\n",
       "      <td>1063042585802039296</td>\n",
       "      <td>Twitter for iPhone</td>\n",
       "      <td>96454</td>\n",
       "      <td>26155</td>\n",
       "    </tr>\n",
       "    <tr>\n",
       "      <th>8</th>\n",
       "      <td>The White House is running very smoothly and t...</td>\n",
       "      <td>2018-11-15 11:59:19</td>\n",
       "      <td>140</td>\n",
       "      <td>1063038733673525248</td>\n",
       "      <td>Twitter for iPhone</td>\n",
       "      <td>95689</td>\n",
       "      <td>23224</td>\n",
       "    </tr>\n",
       "    <tr>\n",
       "      <th>9</th>\n",
       "      <td>Our pledge to hire American includes those lea...</td>\n",
       "      <td>2018-11-14 23:26:38</td>\n",
       "      <td>140</td>\n",
       "      <td>1062849316161753093</td>\n",
       "      <td>Twitter for iPhone</td>\n",
       "      <td>61507</td>\n",
       "      <td>15801</td>\n",
       "    </tr>\n",
       "  </tbody>\n",
       "</table>\n",
       "</div>"
      ],
      "text/plain": [
       "                                              Tweets                Date  len  \\\n",
       "0  It is our sacred duty to support America’s Ser... 2018-11-15 20:43:42  140   \n",
       "1  Last year, I signed the landmark VA Accountabi... 2018-11-15 20:39:51  139   \n",
       "2  It was my great honor to host a @WhiteHouse Co... 2018-11-15 20:34:20  144   \n",
       "3  .@FLOTUS Melania and I were honored to visit w... 2018-11-15 20:08:32  140   \n",
       "4  The only “Collusion” is that of the Democrats ... 2018-11-15 14:59:28  139   \n",
       "5  Universities will someday study what highly co... 2018-11-15 14:49:28  140   \n",
       "6  ....care how many lives the ruin. These are An... 2018-11-15 12:32:03  140   \n",
       "7  The inner workings of the Mueller investigatio... 2018-11-15 12:14:37  140   \n",
       "8  The White House is running very smoothly and t... 2018-11-15 11:59:19  140   \n",
       "9  Our pledge to hire American includes those lea... 2018-11-14 23:26:38  140   \n",
       "\n",
       "                    ID              Source   Likes    RTs  \n",
       "0  1063170699500642304  Twitter for iPhone   50907  12887  \n",
       "1  1063169733535678464  Twitter for iPhone   53512  13852  \n",
       "2  1063168341941063680  Twitter for iPhone   41437  10316  \n",
       "3  1063161848952836096        Media Studio   44878  11150  \n",
       "4  1063084073231544320  Twitter for iPhone   91978  27320  \n",
       "5  1063081553075625984  Twitter for iPhone   94794  26487  \n",
       "6  1063046973857718272  Twitter for iPhone  101230  26094  \n",
       "7  1063042585802039296  Twitter for iPhone   96454  26155  \n",
       "8  1063038733673525248  Twitter for iPhone   95689  23224  \n",
       "9  1062849316161753093  Twitter for iPhone   61507  15801  "
      ]
     },
     "metadata": {},
     "output_type": "display_data"
    }
   ],
   "source": [
    "data['Date'] = [x.created_at for x in tweets]\n",
    "data['len']  = [len(x.text) for x in tweets]\n",
    "data['ID']   = [x.id for x in tweets]\n",
    "data['Source'] = [x.source for x in tweets]\n",
    "data['Likes']  = [x.favorite_count for x in tweets]\n",
    "data['RTs']    =  [x.retweet_count for x in tweets]\n",
    "display(data.head(10))"
   ]
  },
  {
   "cell_type": "code",
   "execution_count": 28,
   "metadata": {},
   "outputs": [
    {
     "name": "stdout",
     "output_type": "stream",
     "text": [
      "The average length of the tweets: 129.98\n"
     ]
    }
   ],
   "source": [
    "mean = data['len'].mean()\n",
    "print(\"The average length of the tweets: {}\".format(mean))"
   ]
  },
  {
   "cell_type": "code",
   "execution_count": 29,
   "metadata": {},
   "outputs": [
    {
     "name": "stdout",
     "output_type": "stream",
     "text": [
      "Requirement already satisfied: matplotlib in ./.venv/lib/python3.6/site-packages (3.0.2)\n",
      "Requirement already satisfied: kiwisolver>=1.0.1 in ./.venv/lib/python3.6/site-packages (from matplotlib) (1.0.1)\n",
      "Requirement already satisfied: cycler>=0.10 in ./.venv/lib/python3.6/site-packages (from matplotlib) (0.10.0)\n",
      "Requirement already satisfied: python-dateutil>=2.1 in ./.venv/lib/python3.6/site-packages (from matplotlib) (2.7.5)\n",
      "Requirement already satisfied: numpy>=1.10.0 in ./.venv/lib/python3.6/site-packages (from matplotlib) (1.15.4)\n",
      "Requirement already satisfied: pyparsing!=2.0.4,!=2.1.2,!=2.1.6,>=2.0.1 in ./.venv/lib/python3.6/site-packages (from matplotlib) (2.3.0)\n",
      "Requirement already satisfied: setuptools in ./.venv/lib/python3.6/site-packages (from kiwisolver>=1.0.1->matplotlib) (40.6.2)\n",
      "Requirement already satisfied: six in ./.venv/lib/python3.6/site-packages (from cycler>=0.10->matplotlib) (1.11.0)\n"
     ]
    }
   ],
   "source": [
    "!pip install matplotlib"
   ]
  },
  {
   "cell_type": "code",
   "execution_count": 30,
   "metadata": {},
   "outputs": [],
   "source": [
    "import matplotlib\n",
    "import pandas as pd"
   ]
  },
  {
   "cell_type": "code",
   "execution_count": 31,
   "metadata": {},
   "outputs": [
    {
     "data": {
      "text/plain": [
       "<matplotlib.axes._subplots.AxesSubplot at 0x119a65fd0>"
      ]
     },
     "execution_count": 31,
     "metadata": {},
     "output_type": "execute_result"
    },
    {
     "data": {
      "image/png": "[encoded data removed]",
      "text/plain": [
       "<Figure size 1152x288 with 1 Axes>"
      ]
     },
     "metadata": {
      "needs_background": "light"
     },
     "output_type": "display_data"
    }
   ],
   "source": [
    "%matplotlib inline\n",
    "tlen = pd.Series(data=data['len'].values, index=data['Date'])\n",
    "tlen.plot(figsize=(16,4), color='r')"
   ]
  },
  {
   "cell_type": "code",
   "execution_count": 32,
   "metadata": {},
   "outputs": [
    {
     "data": {
      "text/plain": [
       "<matplotlib.axes._subplots.AxesSubplot at 0x11bcfe470>"
      ]
     },
     "execution_count": 32,
     "metadata": {},
     "output_type": "execute_result"
    },
    {
     "data": {
      "image/png": "[encoded data removed]",
      "text/plain": [
       "<Figure size 1152x288 with 1 Axes>"
      ]
     },
     "metadata": {
      "needs_background": "light"
     },
     "output_type": "display_data"
    }
   ],
   "source": [
    "tfav = pd.Series(data=data['Likes'].values, index=data['Date'])\n",
    "tret = pd.Series(data=data['RTs'].values, index=data['Date'])\n",
    "tfav.plot(figsize=(16,4), label=\"Likes\", legend=True)\n",
    "tret.plot(figsize=(16,4), label=\"Retweets\", legend=True)"
   ]
  },
  {
   "cell_type": "code",
   "execution_count": null,
   "metadata": {},
   "outputs": [],
   "source": []
  }
 ],
 "metadata": {
  "kernelspec": {
   "display_name": "Python 3",
   "language": "python",
   "name": "python3"
  },
  "language_info": {
   "codemirror_mode": {
    "name": "ipython",
    "version": 3
   },
   "file_extension": ".py",
   "mimetype": "text/x-python",
   "name": "python",
   "nbconvert_exporter": "python",
   "pygments_lexer": "ipython3",
   "version": "3.6.7"
  }
 },
 "nbformat": 4,
 "nbformat_minor": 1
}
