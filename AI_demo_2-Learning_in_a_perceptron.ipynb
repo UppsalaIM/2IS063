{
 "cells": [
  {
   "cell_type": "markdown",
   "metadata": {},
   "source": [
    "# 2 - Learning in a perceptron\n",
    "\n",
    "In this notebook, we look at how to implement learning in a perceptron. Given a very simple perceptron that does not know anything (is initialized randomly), we will:\n",
    "\n",
    "1. Train it to recognize that a 1 is a 1 and a 0 is a 0\n",
    "1. Train it to negate the input."
   ]
  },
  {
   "cell_type": "code",
   "execution_count": 1,
   "metadata": {},
   "outputs": [],
   "source": [
    "import random\n",
    "import numpy as np"
   ]
  },
  {
   "cell_type": "code",
   "execution_count": 2,
   "metadata": {},
   "outputs": [],
   "source": [
    "def step_function(x, threshold):\n",
    "    if x < threshold:\n",
    "        return 0\n",
    "    elif x >= threshold:\n",
    "        return 1\n",
    "\n",
    "class Perceptron1():\n",
    "    \"\"\"This class implements a 1-input perceptron.\"\"\"\n",
    "    \n",
    "    def __init__(self, w1, threshold, activation_function):\n",
    "        self.w1 = w1\n",
    "        self.threshold = threshold\n",
    "        self.activation_function = activation_function\n",
    "    \n",
    "    def activate(self, x1):\n",
    "        output = self.activation_function(x1 * self.w1, self.threshold)\n",
    "        return output\n",
    "    \n",
    "    def train(self, X, y, learning_rate=0.01, iterations=100):\n",
    "        self.w1 = random.uniform(0, 0.1)\n",
    "        self.threshold = random.uniform(-1, 1)\n",
    "        self.errors = []\n",
    "        self.w1_breadcrumbs = []\n",
    "        self.t_breadcrumbs = [self.threshold]\n",
    "\n",
    "        for _ in range(iterations):\n",
    "            errors = 0\n",
    "            for xi, target in zip(X, y):\n",
    "                update = learning_rate * (target - self.activate(xi))\n",
    "                self.w1 +=  update * xi\n",
    "                self.w1 +=  update\n",
    "                errors += int(update != 0.0)\n",
    "            self.w1_breadcrumbs.append(self.w1)\n",
    "            self.errors.append(errors)\n",
    "            # if the errors are getting more, reset the threshold randomly\n",
    "            if self.errors[-1] > self.errors[0]:\n",
    "                self.threshold = random.uniform(-1, 1)\n",
    "                self.t_breadcrumbs.append(self.threshold)"
   ]
  },
  {
   "cell_type": "markdown",
   "metadata": {},
   "source": [
    "Set up a default neuron that does not do much:"
   ]
  },
  {
   "cell_type": "code",
   "execution_count": 6,
   "metadata": {},
   "outputs": [],
   "source": [
    "# default state\n",
    "p1 = Perceptron1(w1=0.001, threshold=0.5, activation_function=step_function)"
   ]
  },
  {
   "cell_type": "code",
   "execution_count": 4,
   "metadata": {},
   "outputs": [
    {
     "data": {
      "text/plain": [
       "0"
      ]
     },
     "execution_count": 4,
     "metadata": {},
     "output_type": "execute_result"
    }
   ],
   "source": [
    "p1.activate(0)"
   ]
  },
  {
   "cell_type": "code",
   "execution_count": 5,
   "metadata": {},
   "outputs": [
    {
     "data": {
      "text/plain": [
       "0"
      ]
     },
     "execution_count": 5,
     "metadata": {},
     "output_type": "execute_result"
    }
   ],
   "source": [
    "p1.activate(1)"
   ]
  },
  {
   "cell_type": "markdown",
   "metadata": {},
   "source": [
    "Let's train the neuron to recognise 1s and 0s:"
   ]
  },
  {
   "cell_type": "code",
   "execution_count": 13,
   "metadata": {},
   "outputs": [],
   "source": [
    "p1.train([1, 0, 1, 0, 0], [1, 0, 1, 0, 0])"
   ]
  },
  {
   "cell_type": "code",
   "execution_count": 15,
   "metadata": {},
   "outputs": [
    {
     "data": {
      "text/plain": [
       "1"
      ]
     },
     "execution_count": 15,
     "metadata": {},
     "output_type": "execute_result"
    }
   ],
   "source": [
    "p1.activate(1)"
   ]
  },
  {
   "cell_type": "code",
   "execution_count": 16,
   "metadata": {},
   "outputs": [
    {
     "data": {
      "text/plain": [
       "0"
      ]
     },
     "execution_count": 16,
     "metadata": {},
     "output_type": "execute_result"
    }
   ],
   "source": [
    "p1.activate(0)"
   ]
  },
  {
   "cell_type": "code",
   "execution_count": 14,
   "metadata": {},
   "outputs": [
    {
     "data": {
      "text/plain": [
       "[<matplotlib.lines.Line2D at 0x115fa5dd8>]"
      ]
     },
     "execution_count": 14,
     "metadata": {},
     "output_type": "execute_result"
    },
    {
     "data": {
      "image/png": "[encoded data removed]",
      "text/plain": [
       "<Figure size 432x288 with 1 Axes>"
      ]
     },
     "metadata": {
      "needs_background": "light"
     },
     "output_type": "display_data"
    }
   ],
   "source": [
    "import matplotlib.pyplot as plt\n",
    "%matplotlib inline\n",
    "plt.ylabel('Num errors / weight')\n",
    "plt.xlabel('Iterations of training')\n",
    "plt.plot(np.array(p1.w1_breadcrumbs))\n",
    "plt.plot(np.array(p1.errors))"
   ]
  },
  {
   "cell_type": "markdown",
   "metadata": {},
   "source": [
    "Now we train the same neuron again to negate the inputs, by running `train()` with inversed expected outputs:"
   ]
  },
  {
   "cell_type": "code",
   "execution_count": 17,
   "metadata": {},
   "outputs": [],
   "source": [
    "p1.train([1, 0, 1, 0, 0], [0, 1, 0, 1, 1])"
   ]
  },
  {
   "cell_type": "code",
   "execution_count": 18,
   "metadata": {},
   "outputs": [
    {
     "data": {
      "text/plain": [
       "1"
      ]
     },
     "execution_count": 18,
     "metadata": {},
     "output_type": "execute_result"
    }
   ],
   "source": [
    "p1.activate(0)"
   ]
  },
  {
   "cell_type": "code",
   "execution_count": 19,
   "metadata": {},
   "outputs": [
    {
     "data": {
      "text/plain": [
       "0"
      ]
     },
     "execution_count": 19,
     "metadata": {},
     "output_type": "execute_result"
    }
   ],
   "source": [
    "p1.activate(1)"
   ]
  },
  {
   "cell_type": "code",
   "execution_count": 20,
   "metadata": {},
   "outputs": [
    {
     "data": {
      "text/plain": [
       "[<matplotlib.lines.Line2D at 0x116054470>]"
      ]
     },
     "execution_count": 20,
     "metadata": {},
     "output_type": "execute_result"
    },
    {
     "data": {
      "image/png": "[encoded data removed]",
      "text/plain": [
       "<Figure size 432x288 with 1 Axes>"
      ]
     },
     "metadata": {
      "needs_background": "light"
     },
     "output_type": "display_data"
    }
   ],
   "source": [
    "import matplotlib.pyplot as plt\n",
    "%matplotlib inline\n",
    "plt.ylabel('Num errors / weight')\n",
    "plt.xlabel('Iterations of training')\n",
    "plt.plot(np.array(p1.w1_breadcrumbs))\n",
    "plt.plot(np.array(p1.errors))"
   ]
  },
  {
   "cell_type": "code",
   "execution_count": null,
   "metadata": {},
   "outputs": [],
   "source": []
  },
  {
   "cell_type": "code",
   "execution_count": null,
   "metadata": {},
   "outputs": [],
   "source": []
  }
 ],
 "metadata": {
  "kernelspec": {
   "display_name": "Python 3",
   "language": "python",
   "name": "python3"
  },
  "language_info": {
   "codemirror_mode": {
    "name": "ipython",
    "version": 3
   },
   "file_extension": ".py",
   "mimetype": "text/x-python",
   "name": "python",
   "nbconvert_exporter": "python",
   "pygments_lexer": "ipython3",
   "version": "3.6.8"
  }
 },
 "nbformat": 4,
 "nbformat_minor": 2
}
