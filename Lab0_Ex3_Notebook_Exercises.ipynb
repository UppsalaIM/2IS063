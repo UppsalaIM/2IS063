{
 "cells": [
  {
   "cell_type": "markdown",
   "metadata": {},
   "source": [
    "# Exercise 3: Getting familiar with Notebooks\n",
    "---"
   ]
  },
  {
   "cell_type": "markdown",
   "metadata": {},
   "source": [
    "## Notebook UI"
   ]
  },
  {
   "cell_type": "markdown",
   "metadata": {},
   "source": [
    "### Part 1 - Running code cells"
   ]
  },
  {
   "cell_type": "markdown",
   "metadata": {},
   "source": [
    "Create a new Notebook and create a couple of cells that contain simple Python expressions. \n",
    "\n",
    "Practice shifting between command and edit mode a few times, going back to edit existing cells.\n",
    "\n",
    "Try using `time.sleep(2)` and watch the kernel activity indicator."
   ]
  },
  {
   "cell_type": "code",
   "execution_count": null,
   "metadata": {},
   "outputs": [],
   "source": [
    "from time import sleep\n",
    "sleep(2)"
   ]
  },
  {
   "cell_type": "markdown",
   "metadata": {},
   "source": [
    "### Part 2 - Answering questions for the labs (IMPORTANT)"
   ]
  },
  {
   "cell_type": "markdown",
   "metadata": {},
   "source": [
    "Each of the Lab sessions 1-4 will require you to read notebooks and run some code. You will also be asked to provide answers to questions.\n",
    "\n",
    "#### Text answers\n",
    "\n",
    "Some questions will simply ask a reflective question of some kind. All you need to do is write down your answer in a MS Word document, where a template is indicated at the start of the notebook (near the top).\n",
    "\n",
    "At the end of the lab, you will need to submit that document to Studium. Your teachers will review your notes and provide feedback."
   ]
  },
  {
   "cell_type": "markdown",
   "metadata": {},
   "source": [
    "#### Code answers\n",
    "\n",
    "Additionally, there will be questions that you must answer using some very simple *code*, which you can then receive some immediate validation if your answers are correct. These answers will simply be numeric answers or perhaps lists of words.\n",
    "\n",
    "In the preamble to each notebook there will be a block of code to import various packages needed for the lab. There is also a couple of lines that initialize at auto-grader package called `OK` that will validate your answer. Run the next cell to initialize the auto-grader for this notebook:"
   ]
  },
  {
   "cell_type": "code",
   "execution_count": null,
   "metadata": {},
   "outputs": [],
   "source": [
    "from client.api.notebook import Notebook\n",
    "ok = Notebook('lab0.ok')"
   ]
  },
  {
   "cell_type": "markdown",
   "metadata": {},
   "source": [
    "Like with text answers, you will be presented with a cell immediately after the question. In this cell you must provide your answer. There will usually be an ellipsis, which is three periods that look like `...` You should **replace the ellipsis** with your answer, then **run the cell**.\n",
    "\n",
    "For example:"
   ]
  },
  {
   "cell_type": "markdown",
   "metadata": {},
   "source": [
    "**Q1.** What is the answer to the equation $1 + 2 \\times 3$?"
   ]
  },
  {
   "cell_type": "code",
   "execution_count": null,
   "metadata": {},
   "outputs": [],
   "source": [
    "my_answer = ..."
   ]
  },
  {
   "cell_type": "markdown",
   "metadata": {},
   "source": [
    "Following your code answer cells, there will be a cell containing some code that looks a bit like this that runs the `OK` auto-grader:\n",
    "    \n",
    "    _ = ok.grade('question1')\n",
    "\n",
    "After providing your code answer and running the cell with your answer in it, run this cell. This cell will validate your answer. It will tell you if you got your answer correct or not. If you put an incorrect answer, try and figure out why, rather than copying the correct answer from the feedback that the `ok.grade()` function gives you.\n",
    "\n",
    "**Do not edit these cells with the `ok` code**, only run them. \n",
    "\n",
    "Try and run the following cell to validate your above answer to Q1."
   ]
  },
  {
   "cell_type": "code",
   "execution_count": null,
   "metadata": {},
   "outputs": [],
   "source": [
    "_ = ok.grade('q02')"
   ]
  },
  {
   "cell_type": "markdown",
   "metadata": {},
   "source": [
    "Some questions might require a list of strings as answers. Strings in Python are enclosed in speech marks like:\n",
    "\n",
    "    \"Hello world!\"\n",
    "    \n",
    "Lists are enclosed in square brackets `[` and `]`, with each item in the list delimited with a comma `,` like:\n",
    "\n",
    "    [\"Hello\", \"world!\"]\n",
    "\n",
    "Like with the previous way of answering in code cells, the ellipsis should be removed when you put your answer. Let us try and example of prodiving a list of strings as an answer to a question in our notebook:"
   ]
  },
  {
   "cell_type": "markdown",
   "metadata": {},
   "source": [
    "**Q2.** What are the first names of each of the members of the pop group ABBA?\n",
    "\n",
    "*If you're not sure who is in ABBA, [check here](https://www.youtube.com/watch?v=z4cSo_O-4zc).*"
   ]
  },
  {
   "cell_type": "code",
   "execution_count": null,
   "metadata": {},
   "outputs": [],
   "source": [
    "abba_names = [ ... ]"
   ]
  },
  {
   "cell_type": "code",
   "execution_count": null,
   "metadata": {},
   "outputs": [],
   "source": [
    "_ = ok.grade('q03')"
   ]
  },
  {
   "cell_type": "markdown",
   "metadata": {},
   "source": [
    "## Restarting the kernel"
   ]
  },
  {
   "cell_type": "markdown",
   "metadata": {},
   "source": [
    "Define a variable in a Notebook, then use the \"Kernel:Restart\" menu item to restart the Kernel and verify that the variable has been cleared."
   ]
  },
  {
   "cell_type": "markdown",
   "metadata": {},
   "source": [
    "---\n",
    "**You should now be equipped to begin with [Lab 1](Lab1_Analyzing_Bokmässan_Tweets.ipynb).**"
   ]
  },
  {
   "cell_type": "code",
   "execution_count": null,
   "metadata": {},
   "outputs": [],
   "source": []
  }
 ],
 "metadata": {
  "kernelspec": {
   "display_name": "Python 3",
   "language": "python",
   "name": "python3"
  },
  "language_info": {
   "codemirror_mode": {
    "name": "ipython",
    "version": 3
   },
   "file_extension": ".py",
   "mimetype": "text/x-python",
   "name": "python",
   "nbconvert_exporter": "python",
   "pygments_lexer": "ipython3",
   "version": "3.8.3"
  },
  "nbTranslate": {
   "displayLangs": [
    "*"
   ],
   "hotkey": "alt-t",
   "langInMainMenu": true,
   "sourceLang": "en",
   "targetLang": "fr",
   "useGoogleTranslate": true
  }
 },
 "nbformat": 4,
 "nbformat_minor": 1
}
